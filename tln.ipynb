{
 "cells": [
  {
   "cell_type": "markdown",
   "id": "b99cba0e",
   "metadata": {},
   "source": [
    "# Temporal Linear Network (TLN) for VWAP prediction"
   ]
  },
  {
   "cell_type": "code",
   "execution_count": 3,
   "id": "af8cc470",
   "metadata": {},
   "outputs": [],
   "source": [
    "import pandas as pd\n",
    "import numpy as np\n",
    "import matplotlib.pyplot as plt\n",
    "import datetime\n",
    "import keras\n",
    "from tln import TLN"
   ]
  },
  {
   "cell_type": "code",
   "execution_count": 4,
   "id": "432f555b",
   "metadata": {},
   "outputs": [],
   "source": [
    "# Suppress TensorFlow warnings for cleaner output\n",
    "import os\n",
    "os.environ['TF_CPP_MIN_LOG_LEVEL'] = '2'"
   ]
  },
  {
   "cell_type": "markdown",
   "id": "8068d447",
   "metadata": {},
   "source": [
    "### Step 1: Data loading and initial prep"
   ]
  },
  {
   "cell_type": "code",
   "execution_count": 6,
   "id": "277d770b",
   "metadata": {},
   "outputs": [],
   "source": [
    "# Load the dataset\n",
    "df = pd.read_csv('../META_1min_firstratedata.csv')\n",
    "\n",
    "# Convert timestamp and set as index\n",
    "df['timestamp'] = pd.to_datetime(df['timestamp'])\n",
    "df['avg_price'] = (df['high'] + df['low']) / 2\n",
    "df.set_index('timestamp', inplace=True)\n",
    "\n",
    "# Filter for standard trading hours (9:30 AM - 4:00 PM)\n",
    "trading_hours_df = df.between_time('09:30', '16:00').copy()"
   ]
  },
  {
   "cell_type": "markdown",
   "id": "7816a91e",
   "metadata": {},
   "source": [
    "### Step 2: split data into training and testing sets"
   ]
  },
  {
   "cell_type": "code",
   "execution_count": 8,
   "id": "6488e514",
   "metadata": {},
   "outputs": [],
   "source": [
    "# Get unique dates\n",
    "dates = df.index.normalize().unique()\n",
    "\n",
    "# Split dates\n",
    "train_dates = dates[:int(len(dates) * 0.75)]\n",
    "\n",
    "# Create masks\n",
    "mask = df.index.normalize().isin(train_dates)\n",
    "train_df = df[mask].copy()\n",
    "test_df = df[~mask].copy()"
   ]
  },
  {
   "cell_type": "markdown",
   "id": "7d8aacf8",
   "metadata": {},
   "source": [
    "### Step 3: prepare data for TLN model"
   ]
  },
  {
   "cell_type": "code",
   "execution_count": 9,
   "id": "e322818c",
   "metadata": {},
   "outputs": [],
   "source": [
    "def create_tln_sequences(df, lookback_window, horizon):\n",
    "    \"\"\"\n",
    "    Creates sequences of data for training the TLN model.\n",
    "    X: Input features (lookback_window minutes of price and volume).\n",
    "    y: Target data (horizon minutes of price and market volume for loss calculation).\n",
    "    \"\"\"\n",
    "\n",
    "    features = ['avg_price', 'volume']\n",
    "    X, y = [], []\n",
    "\n",
    "    # Group by day to create sequences within each trading day\n",
    "    daily_groups = df.groupby(df.index.date)\n",
    "    \n",
    "    for date, group in daily_groups:\n",
    "        feature_data = group[features].values\n",
    "        price_volume_data = group[['avg_price', 'volume']].values\n",
    "        \n",
    "        if len(feature_data) < lookback_window + horizon:\n",
    "            continue\n",
    "            \n",
    "        for i in range(len(feature_data) - lookback_window - horizon + 1):\n",
    "            X.append(feature_data[i : i + lookback_window])\n",
    "            y.append(price_volume_data[i + lookback_window : i + lookback_window + horizon])\n",
    "            \n",
    "    return np.array(X), np.array(y)\n"
   ]
  },
  {
   "cell_type": "markdown",
   "id": "61407fa1",
   "metadata": {},
   "source": [
    "### Define model parameters"
   ]
  },
  {
   "cell_type": "code",
   "execution_count": 10,
   "id": "8e2092ea",
   "metadata": {},
   "outputs": [],
   "source": [
    "LOOKBACK = 120  # Use the past 120 minutes of data\n",
    "HORIZON = 30    # To predict the execution schedule for the next 30 minutes\n",
    "FEATURES = ['avg_price', 'volume']\n",
    "NUM_FEATURES = len(FEATURES)"
   ]
  },
  {
   "cell_type": "code",
   "execution_count": 11,
   "id": "76b891e2",
   "metadata": {},
   "outputs": [
    {
     "name": "stdout",
     "output_type": "stream",
     "text": [
      "\n",
      "Creating TLN sequences...\n",
      "Training data shape: X_train -> (94911, 120, 2), y_train -> (94911, 30, 2)\n",
      "Testing data shape: X_test -> (29969, 120, 2), y_test -> (29969, 30, 2)\n"
     ]
    }
   ],
   "source": [
    "# Create training and testing sequences\n",
    "print(\"\\nCreating TLN sequences...\")\n",
    "X_train, y_train = create_tln_sequences(train_df, LOOKBACK, HORIZON)\n",
    "X_test, y_test = create_tln_sequences(test_df, LOOKBACK, HORIZON)\n",
    "\n",
    "print(f\"Training data shape: X_train -> {X_train.shape}, y_train -> {y_train.shape}\")\n",
    "print(f\"Testing data shape: X_test -> {X_test.shape}, y_test -> {y_test.shape}\")"
   ]
  },
  {
   "cell_type": "markdown",
   "id": "85df2837",
   "metadata": {},
   "source": [
    "### Step 4: define custom vwap loss function and TLN model"
   ]
  },
  {
   "cell_type": "code",
   "execution_count": 13,
   "id": "eaaec8b7",
   "metadata": {},
   "outputs": [],
   "source": [
    "def vwap_loss(y_true, y_pred):\n",
    "    \"\"\"\n",
    "    Custom Keras loss function to minimize the quadratic VWAP slippage.\n",
    "    The model predicts the allocation schedule (y_pred).\n",
    "    y_true contains the actual market prices and volumes needed to calculate the benchmark.\n",
    "    \"\"\"\n",
    "    \n",
    "    # Extract future prices and market volumes from y_true\n",
    "    future_prices = y_true[:, :, 0]\n",
    "    market_volumes = y_true[:, :, 1]\n",
    "\n",
    "    # Calculate the VWAP achieved by the model's predicted schedule\n",
    "    model_trade_value = keras.ops.sum(y_pred * future_prices, axis=1)\n",
    "    model_total_shares = keras.ops.sum(y_pred, axis=1)\n",
    "    model_vwap = model_trade_value / (model_total_shares + 1e-8) # Add epsilon for stability\n",
    "\n",
    "    # Calculate the benchmark VWAP using market volumes\n",
    "    benchmark_trade_value = keras.ops.sum(market_volumes * future_prices, axis=1)\n",
    "    benchmark_total_volume = keras.ops.sum(market_volumes, axis=1)\n",
    "    benchmark_vwap = benchmark_trade_value / (benchmark_total_volume + 1e-8)\n",
    "\n",
    "    # The loss is the squared difference between the two VWAPs (slippage)\n",
    "    slippage = model_vwap - benchmark_vwap\n",
    "    return keras.ops.square(slippage)"
   ]
  },
  {
   "cell_type": "code",
   "execution_count": 14,
   "id": "718b9e56",
   "metadata": {},
   "outputs": [],
   "source": [
    "# Define the TLN model architecture\n",
    "# The model's output is an allocation schedule, ensured by the softmax activation[7]\n",
    "tln_model = keras.Sequential([\n",
    "    keras.Input(shape=(LOOKBACK, NUM_FEATURES)),\n",
    "    TLN(\n",
    "        output_len=HORIZON,\n",
    "        output_features=1, # The model will internally produce one value per timestamp\n",
    "        hidden_layers=2,\n",
    "        use_convolution=True\n",
    "    ),\n",
    "    keras.layers.Flatten(),\n",
    "    # The final Dense layer ensures the output matches the horizon length\n",
    "    keras.layers.Dense(HORIZON, activation='softmax') \n",
    "])"
   ]
  },
  {
   "cell_type": "code",
   "execution_count": 16,
   "id": "13649c4e",
   "metadata": {},
   "outputs": [
    {
     "data": {
      "text/html": [
       "<pre style=\"white-space:pre;overflow-x:auto;line-height:normal;font-family:Menlo,'DejaVu Sans Mono',consolas,'Courier New',monospace\"><span style=\"font-weight: bold\">Model: \"sequential\"</span>\n",
       "</pre>\n"
      ],
      "text/plain": [
       "\u001b[1mModel: \"sequential\"\u001b[0m\n"
      ]
     },
     "metadata": {},
     "output_type": "display_data"
    },
    {
     "data": {
      "text/html": [
       "<pre style=\"white-space:pre;overflow-x:auto;line-height:normal;font-family:Menlo,'DejaVu Sans Mono',consolas,'Courier New',monospace\">┏━━━━━━━━━━━━━━━━━━━━━━━━━━━━━━━━━┳━━━━━━━━━━━━━━━━━━━━━━━━┳━━━━━━━━━━━━━━━┓\n",
       "┃<span style=\"font-weight: bold\"> Layer (type)                    </span>┃<span style=\"font-weight: bold\"> Output Shape           </span>┃<span style=\"font-weight: bold\">       Param # </span>┃\n",
       "┡━━━━━━━━━━━━━━━━━━━━━━━━━━━━━━━━━╇━━━━━━━━━━━━━━━━━━━━━━━━╇━━━━━━━━━━━━━━━┩\n",
       "│ tln (<span style=\"color: #0087ff; text-decoration-color: #0087ff\">TLN</span>)                       │ (<span style=\"color: #00d7ff; text-decoration-color: #00d7ff\">None</span>, <span style=\"color: #00af00; text-decoration-color: #00af00\">30</span>, <span style=\"color: #00af00; text-decoration-color: #00af00\">1</span>)          │         <span style=\"color: #00af00; text-decoration-color: #00af00\">5,414</span> │\n",
       "├─────────────────────────────────┼────────────────────────┼───────────────┤\n",
       "│ flatten (<span style=\"color: #0087ff; text-decoration-color: #0087ff\">Flatten</span>)               │ (<span style=\"color: #00d7ff; text-decoration-color: #00d7ff\">None</span>, <span style=\"color: #00af00; text-decoration-color: #00af00\">30</span>)             │             <span style=\"color: #00af00; text-decoration-color: #00af00\">0</span> │\n",
       "├─────────────────────────────────┼────────────────────────┼───────────────┤\n",
       "│ dense (<span style=\"color: #0087ff; text-decoration-color: #0087ff\">Dense</span>)                   │ (<span style=\"color: #00d7ff; text-decoration-color: #00d7ff\">None</span>, <span style=\"color: #00af00; text-decoration-color: #00af00\">30</span>)             │           <span style=\"color: #00af00; text-decoration-color: #00af00\">930</span> │\n",
       "└─────────────────────────────────┴────────────────────────┴───────────────┘\n",
       "</pre>\n"
      ],
      "text/plain": [
       "┏━━━━━━━━━━━━━━━━━━━━━━━━━━━━━━━━━┳━━━━━━━━━━━━━━━━━━━━━━━━┳━━━━━━━━━━━━━━━┓\n",
       "┃\u001b[1m \u001b[0m\u001b[1mLayer (type)                   \u001b[0m\u001b[1m \u001b[0m┃\u001b[1m \u001b[0m\u001b[1mOutput Shape          \u001b[0m\u001b[1m \u001b[0m┃\u001b[1m \u001b[0m\u001b[1m      Param #\u001b[0m\u001b[1m \u001b[0m┃\n",
       "┡━━━━━━━━━━━━━━━━━━━━━━━━━━━━━━━━━╇━━━━━━━━━━━━━━━━━━━━━━━━╇━━━━━━━━━━━━━━━┩\n",
       "│ tln (\u001b[38;5;33mTLN\u001b[0m)                       │ (\u001b[38;5;45mNone\u001b[0m, \u001b[38;5;34m30\u001b[0m, \u001b[38;5;34m1\u001b[0m)          │         \u001b[38;5;34m5,414\u001b[0m │\n",
       "├─────────────────────────────────┼────────────────────────┼───────────────┤\n",
       "│ flatten (\u001b[38;5;33mFlatten\u001b[0m)               │ (\u001b[38;5;45mNone\u001b[0m, \u001b[38;5;34m30\u001b[0m)             │             \u001b[38;5;34m0\u001b[0m │\n",
       "├─────────────────────────────────┼────────────────────────┼───────────────┤\n",
       "│ dense (\u001b[38;5;33mDense\u001b[0m)                   │ (\u001b[38;5;45mNone\u001b[0m, \u001b[38;5;34m30\u001b[0m)             │           \u001b[38;5;34m930\u001b[0m │\n",
       "└─────────────────────────────────┴────────────────────────┴───────────────┘\n"
      ]
     },
     "metadata": {},
     "output_type": "display_data"
    },
    {
     "data": {
      "text/html": [
       "<pre style=\"white-space:pre;overflow-x:auto;line-height:normal;font-family:Menlo,'DejaVu Sans Mono',consolas,'Courier New',monospace\"><span style=\"font-weight: bold\"> Total params: </span><span style=\"color: #00af00; text-decoration-color: #00af00\">6,344</span> (24.78 KB)\n",
       "</pre>\n"
      ],
      "text/plain": [
       "\u001b[1m Total params: \u001b[0m\u001b[38;5;34m6,344\u001b[0m (24.78 KB)\n"
      ]
     },
     "metadata": {},
     "output_type": "display_data"
    },
    {
     "data": {
      "text/html": [
       "<pre style=\"white-space:pre;overflow-x:auto;line-height:normal;font-family:Menlo,'DejaVu Sans Mono',consolas,'Courier New',monospace\"><span style=\"font-weight: bold\"> Trainable params: </span><span style=\"color: #00af00; text-decoration-color: #00af00\">6,344</span> (24.78 KB)\n",
       "</pre>\n"
      ],
      "text/plain": [
       "\u001b[1m Trainable params: \u001b[0m\u001b[38;5;34m6,344\u001b[0m (24.78 KB)\n"
      ]
     },
     "metadata": {},
     "output_type": "display_data"
    },
    {
     "data": {
      "text/html": [
       "<pre style=\"white-space:pre;overflow-x:auto;line-height:normal;font-family:Menlo,'DejaVu Sans Mono',consolas,'Courier New',monospace\"><span style=\"font-weight: bold\"> Non-trainable params: </span><span style=\"color: #00af00; text-decoration-color: #00af00\">0</span> (0.00 B)\n",
       "</pre>\n"
      ],
      "text/plain": [
       "\u001b[1m Non-trainable params: \u001b[0m\u001b[38;5;34m0\u001b[0m (0.00 B)\n"
      ]
     },
     "metadata": {},
     "output_type": "display_data"
    }
   ],
   "source": [
    "# Compile the model with our custom loss function\n",
    "tln_model.compile(optimizer=keras.optimizers.Adam(learning_rate=0.001), loss=vwap_loss)\n",
    "tln_model.summary()"
   ]
  },
  {
   "cell_type": "markdown",
   "id": "0d26a908",
   "metadata": {},
   "source": [
    "### Step 5: Train the TLN Model"
   ]
  },
  {
   "cell_type": "code",
   "execution_count": 17,
   "id": "238a2790",
   "metadata": {},
   "outputs": [
    {
     "name": "stdout",
     "output_type": "stream",
     "text": [
      "\n",
      "Training the TLN model...\n",
      "Epoch 1/20\n",
      "\u001b[1m1187/1187\u001b[0m \u001b[32m━━━━━━━━━━━━━━━━━━━━\u001b[0m\u001b[37m\u001b[0m \u001b[1m2s\u001b[0m 1ms/step - loss: 0.1179 - val_loss: 0.0233\n",
      "Epoch 2/20\n",
      "\u001b[1m1187/1187\u001b[0m \u001b[32m━━━━━━━━━━━━━━━━━━━━\u001b[0m\u001b[37m\u001b[0m \u001b[1m1s\u001b[0m 1ms/step - loss: 0.0193 - val_loss: 0.0233\n",
      "Epoch 3/20\n",
      "\u001b[1m1187/1187\u001b[0m \u001b[32m━━━━━━━━━━━━━━━━━━━━\u001b[0m\u001b[37m\u001b[0m \u001b[1m2s\u001b[0m 1ms/step - loss: 0.0201 - val_loss: 0.0237\n",
      "Epoch 4/20\n",
      "\u001b[1m1187/1187\u001b[0m \u001b[32m━━━━━━━━━━━━━━━━━━━━\u001b[0m\u001b[37m\u001b[0m \u001b[1m2s\u001b[0m 2ms/step - loss: 0.0207 - val_loss: 0.0231\n",
      "Epoch 5/20\n",
      "\u001b[1m1187/1187\u001b[0m \u001b[32m━━━━━━━━━━━━━━━━━━━━\u001b[0m\u001b[37m\u001b[0m \u001b[1m1s\u001b[0m 1ms/step - loss: 0.0181 - val_loss: 0.0227\n",
      "Epoch 6/20\n",
      "\u001b[1m1187/1187\u001b[0m \u001b[32m━━━━━━━━━━━━━━━━━━━━\u001b[0m\u001b[37m\u001b[0m \u001b[1m2s\u001b[0m 1ms/step - loss: 0.0206 - val_loss: 0.0226\n",
      "Epoch 7/20\n",
      "\u001b[1m1187/1187\u001b[0m \u001b[32m━━━━━━━━━━━━━━━━━━━━\u001b[0m\u001b[37m\u001b[0m \u001b[1m1s\u001b[0m 1ms/step - loss: 0.0204 - val_loss: 0.0224\n",
      "Epoch 8/20\n",
      "\u001b[1m1187/1187\u001b[0m \u001b[32m━━━━━━━━━━━━━━━━━━━━\u001b[0m\u001b[37m\u001b[0m \u001b[1m2s\u001b[0m 1ms/step - loss: 0.0189 - val_loss: 0.0225\n",
      "Epoch 9/20\n",
      "\u001b[1m1187/1187\u001b[0m \u001b[32m━━━━━━━━━━━━━━━━━━━━\u001b[0m\u001b[37m\u001b[0m \u001b[1m2s\u001b[0m 1ms/step - loss: 0.0190 - val_loss: 0.0222\n",
      "Epoch 10/20\n",
      "\u001b[1m1187/1187\u001b[0m \u001b[32m━━━━━━━━━━━━━━━━━━━━\u001b[0m\u001b[37m\u001b[0m \u001b[1m1s\u001b[0m 1ms/step - loss: 0.0188 - val_loss: 0.0228\n",
      "Epoch 11/20\n",
      "\u001b[1m1187/1187\u001b[0m \u001b[32m━━━━━━━━━━━━━━━━━━━━\u001b[0m\u001b[37m\u001b[0m \u001b[1m1s\u001b[0m 1ms/step - loss: 0.0189 - val_loss: 0.0224\n",
      "Epoch 12/20\n",
      "\u001b[1m1187/1187\u001b[0m \u001b[32m━━━━━━━━━━━━━━━━━━━━\u001b[0m\u001b[37m\u001b[0m \u001b[1m2s\u001b[0m 1ms/step - loss: 0.0192 - val_loss: 0.0225\n",
      "Epoch 13/20\n",
      "\u001b[1m1187/1187\u001b[0m \u001b[32m━━━━━━━━━━━━━━━━━━━━\u001b[0m\u001b[37m\u001b[0m \u001b[1m1s\u001b[0m 1ms/step - loss: 0.0187 - val_loss: 0.0223\n",
      "Epoch 14/20\n",
      "\u001b[1m1187/1187\u001b[0m \u001b[32m━━━━━━━━━━━━━━━━━━━━\u001b[0m\u001b[37m\u001b[0m \u001b[1m2s\u001b[0m 1ms/step - loss: 0.0175 - val_loss: 0.0219\n",
      "Epoch 15/20\n",
      "\u001b[1m1187/1187\u001b[0m \u001b[32m━━━━━━━━━━━━━━━━━━━━\u001b[0m\u001b[37m\u001b[0m \u001b[1m1s\u001b[0m 1ms/step - loss: 0.0189 - val_loss: 0.0220\n",
      "Epoch 16/20\n",
      "\u001b[1m1187/1187\u001b[0m \u001b[32m━━━━━━━━━━━━━━━━━━━━\u001b[0m\u001b[37m\u001b[0m \u001b[1m1s\u001b[0m 1ms/step - loss: 0.0174 - val_loss: 0.0230\n",
      "Epoch 17/20\n",
      "\u001b[1m1187/1187\u001b[0m \u001b[32m━━━━━━━━━━━━━━━━━━━━\u001b[0m\u001b[37m\u001b[0m \u001b[1m1s\u001b[0m 1ms/step - loss: 0.0181 - val_loss: 0.0222\n",
      "Epoch 18/20\n",
      "\u001b[1m1187/1187\u001b[0m \u001b[32m━━━━━━━━━━━━━━━━━━━━\u001b[0m\u001b[37m\u001b[0m \u001b[1m1s\u001b[0m 1ms/step - loss: 0.0182 - val_loss: 0.0221\n",
      "Epoch 19/20\n",
      "\u001b[1m1187/1187\u001b[0m \u001b[32m━━━━━━━━━━━━━━━━━━━━\u001b[0m\u001b[37m\u001b[0m \u001b[1m1s\u001b[0m 1ms/step - loss: 0.0163 - val_loss: 0.0221\n",
      "Epoch 20/20\n",
      "\u001b[1m1187/1187\u001b[0m \u001b[32m━━━━━━━━━━━━━━━━━━━━\u001b[0m\u001b[37m\u001b[0m \u001b[1m1s\u001b[0m 1ms/step - loss: 0.0174 - val_loss: 0.0218\n"
     ]
    }
   ],
   "source": [
    "print(\"\\nTraining the TLN model...\")\n",
    "history = tln_model.fit(\n",
    "    X_train,\n",
    "    y_train,\n",
    "    epochs=20,  # A smaller number of epochs is often sufficient with a direct loss function\n",
    "    batch_size=64,\n",
    "    validation_split=0.2,\n",
    "    verbose=1\n",
    ")"
   ]
  },
  {
   "cell_type": "markdown",
   "id": "f2292bb1",
   "metadata": {},
   "source": [
    "### Step 6: backtesting and evaluation with trained TLN model"
   ]
  },
  {
   "cell_type": "code",
   "execution_count": 19,
   "id": "90eb7eef",
   "metadata": {},
   "outputs": [],
   "source": [
    "def calculate_benchmark_vwap(daily_df):\n",
    "    \"\"\"Calculates the true market VWAP for a given day.\"\"\"\n",
    "    if daily_df.empty or daily_df['volume'].sum() == 0:\n",
    "        return np.nan\n",
    "    return (daily_df['avg_price'] * daily_df['volume']).sum() / daily_df['volume'].sum()"
   ]
  },
  {
   "cell_type": "code",
   "execution_count": 20,
   "id": "f67f21a7",
   "metadata": {},
   "outputs": [],
   "source": [
    "def evaluate_tln_strategy(test_df, model, total_shares_to_trade=1_000_000):\n",
    "    \"\"\"\n",
    "    Backtests the trained TLN model on the test data.\n",
    "    \"\"\"\n",
    "    daily_groups = test_df.groupby(test_df.index.date)\n",
    "    results = []\n",
    "\n",
    "    for date, day_data in daily_groups:\n",
    "        if len(day_data) < LOOKBACK + HORIZON:\n",
    "            continue\n",
    "\n",
    "        benchmark_vwap = calculate_benchmark_vwap(day_data)\n",
    "        if pd.isna(benchmark_vwap):\n",
    "            continue\n",
    "\n",
    "        # Simulate trading for the day\n",
    "        total_value_of_trades = 0\n",
    "        total_shares_traded = 0\n",
    "        \n",
    "        # We trade from the first possible moment until the end of the day\n",
    "        for i in range(len(day_data) - LOOKBACK):\n",
    "            # Prepare the input sequence for the model\n",
    "            input_sequence = day_data[i : i + LOOKBACK][FEATURES].values\n",
    "            input_sequence = np.expand_dims(input_sequence, axis=0) # Add batch dimension\n",
    "\n",
    "            # Predict the allocation schedule for the next HORIZON minutes\n",
    "            predicted_schedule = model.predict(input_sequence, verbose=0)[0]\n",
    "            \n",
    "            # Determine shares to trade in the next minute based on the schedule\n",
    "            # We only execute the first step of the horizon prediction\n",
    "            shares_to_trade_next_minute = predicted_schedule[0] * total_shares_to_trade\n",
    "            \n",
    "            # Get the price for the trade\n",
    "            execution_price = day_data.iloc[i + LOOKBACK]['avg_price']\n",
    "            \n",
    "            # Accumulate trade value and shares\n",
    "            total_value_of_trades += shares_to_trade_next_minute * execution_price\n",
    "            total_shares_traded += shares_to_trade_next_minute\n",
    "\n",
    "        if total_shares_traded == 0:\n",
    "            continue\n",
    "\n",
    "        model_vwap = total_value_of_trades / total_shares_traded\n",
    "        \n",
    "        # Calculate slippage\n",
    "        slippage = model_vwap - benchmark_vwap\n",
    "        slippage_bps = (slippage / benchmark_vwap) * 10000  # in basis points\n",
    "\n",
    "        results.append({\n",
    "            'date': date,\n",
    "            'benchmark_vwap': benchmark_vwap,\n",
    "            'model_vwap': model_vwap,\n",
    "            'slippage': slippage,\n",
    "            'slippage_bps': slippage_bps\n",
    "        })\n",
    "        \n",
    "    return pd.DataFrame(results)"
   ]
  },
  {
   "cell_type": "markdown",
   "id": "ec0cee05",
   "metadata": {},
   "source": [
    "### Step 7: run evaluation and display results"
   ]
  },
  {
   "cell_type": "code",
   "execution_count": 22,
   "id": "3f3fab7d",
   "metadata": {},
   "outputs": [
    {
     "name": "stdout",
     "output_type": "stream",
     "text": [
      "\n",
      "Evaluating TLN model performance on the test set...\n"
     ]
    }
   ],
   "source": [
    "print(\"\\nEvaluating TLN model performance on the test set...\")\n",
    "results_df = evaluate_tln_strategy(test_df, tln_model)"
   ]
  },
  {
   "cell_type": "code",
   "execution_count": 33,
   "id": "f018bf77",
   "metadata": {},
   "outputs": [
    {
     "data": {
      "text/html": [
       "<div>\n",
       "<style scoped>\n",
       "    .dataframe tbody tr th:only-of-type {\n",
       "        vertical-align: middle;\n",
       "    }\n",
       "\n",
       "    .dataframe tbody tr th {\n",
       "        vertical-align: top;\n",
       "    }\n",
       "\n",
       "    .dataframe thead th {\n",
       "        text-align: right;\n",
       "    }\n",
       "</style>\n",
       "<table border=\"1\" class=\"dataframe\">\n",
       "  <thead>\n",
       "    <tr style=\"text-align: right;\">\n",
       "      <th></th>\n",
       "      <th>benchmark_vwap</th>\n",
       "      <th>model_vwap</th>\n",
       "      <th>slippage</th>\n",
       "      <th>slippage_bps</th>\n",
       "    </tr>\n",
       "    <tr>\n",
       "      <th>date</th>\n",
       "      <th></th>\n",
       "      <th></th>\n",
       "      <th></th>\n",
       "      <th></th>\n",
       "    </tr>\n",
       "  </thead>\n",
       "  <tbody>\n",
       "    <tr>\n",
       "      <th>2023-07-03</th>\n",
       "      <td>286.620064</td>\n",
       "      <td>286.182777</td>\n",
       "      <td>-0.437287</td>\n",
       "      <td>-15.256689</td>\n",
       "    </tr>\n",
       "    <tr>\n",
       "      <th>2023-07-05</th>\n",
       "      <td>294.702689</td>\n",
       "      <td>295.056704</td>\n",
       "      <td>0.354015</td>\n",
       "      <td>12.012631</td>\n",
       "    </tr>\n",
       "    <tr>\n",
       "      <th>2023-07-06</th>\n",
       "      <td>294.375084</td>\n",
       "      <td>293.817955</td>\n",
       "      <td>-0.557129</td>\n",
       "      <td>-18.925837</td>\n",
       "    </tr>\n",
       "    <tr>\n",
       "      <th>2023-07-07</th>\n",
       "      <td>292.016067</td>\n",
       "      <td>292.024894</td>\n",
       "      <td>0.008827</td>\n",
       "      <td>0.302278</td>\n",
       "    </tr>\n",
       "    <tr>\n",
       "      <th>2023-07-10</th>\n",
       "      <td>292.544818</td>\n",
       "      <td>292.228996</td>\n",
       "      <td>-0.315821</td>\n",
       "      <td>-10.795658</td>\n",
       "    </tr>\n",
       "    <tr>\n",
       "      <th>...</th>\n",
       "      <td>...</td>\n",
       "      <td>...</td>\n",
       "      <td>...</td>\n",
       "      <td>...</td>\n",
       "    </tr>\n",
       "    <tr>\n",
       "      <th>2023-09-25</th>\n",
       "      <td>298.430516</td>\n",
       "      <td>299.197719</td>\n",
       "      <td>0.767204</td>\n",
       "      <td>25.707955</td>\n",
       "    </tr>\n",
       "    <tr>\n",
       "      <th>2023-09-26</th>\n",
       "      <td>298.468219</td>\n",
       "      <td>298.643792</td>\n",
       "      <td>0.175573</td>\n",
       "      <td>5.882481</td>\n",
       "    </tr>\n",
       "    <tr>\n",
       "      <th>2023-09-27</th>\n",
       "      <td>296.075869</td>\n",
       "      <td>297.828514</td>\n",
       "      <td>1.752646</td>\n",
       "      <td>59.195832</td>\n",
       "    </tr>\n",
       "    <tr>\n",
       "      <th>2023-09-28</th>\n",
       "      <td>302.900784</td>\n",
       "      <td>303.606624</td>\n",
       "      <td>0.705839</td>\n",
       "      <td>23.302658</td>\n",
       "    </tr>\n",
       "    <tr>\n",
       "      <th>2023-09-29</th>\n",
       "      <td>303.865172</td>\n",
       "      <td>303.488310</td>\n",
       "      <td>-0.376862</td>\n",
       "      <td>-12.402275</td>\n",
       "    </tr>\n",
       "  </tbody>\n",
       "</table>\n",
       "<p>63 rows × 4 columns</p>\n",
       "</div>"
      ],
      "text/plain": [
       "            benchmark_vwap  model_vwap  slippage  slippage_bps\n",
       "date                                                          \n",
       "2023-07-03      286.620064  286.182777 -0.437287    -15.256689\n",
       "2023-07-05      294.702689  295.056704  0.354015     12.012631\n",
       "2023-07-06      294.375084  293.817955 -0.557129    -18.925837\n",
       "2023-07-07      292.016067  292.024894  0.008827      0.302278\n",
       "2023-07-10      292.544818  292.228996 -0.315821    -10.795658\n",
       "...                    ...         ...       ...           ...\n",
       "2023-09-25      298.430516  299.197719  0.767204     25.707955\n",
       "2023-09-26      298.468219  298.643792  0.175573      5.882481\n",
       "2023-09-27      296.075869  297.828514  1.752646     59.195832\n",
       "2023-09-28      302.900784  303.606624  0.705839     23.302658\n",
       "2023-09-29      303.865172  303.488310 -0.376862    -12.402275\n",
       "\n",
       "[63 rows x 4 columns]"
      ]
     },
     "execution_count": 33,
     "metadata": {},
     "output_type": "execute_result"
    }
   ],
   "source": [
    "results_df"
   ]
  },
  {
   "cell_type": "code",
   "execution_count": 34,
   "id": "5baaa4b5",
   "metadata": {},
   "outputs": [
    {
     "name": "stdout",
     "output_type": "stream",
     "text": [
      "\n",
      "--- TLN Model Performance Summary ---\n",
      "Average Slippage: 1.99 bps\n",
      "Standard Deviation of Slippage: 21.44 bps\n",
      "Number of Days Tested: 63\n",
      "\n",
      "--- First 5 Days of Results ---\n",
      "            benchmark_vwap  model_vwap  slippage  slippage_bps\n",
      "date                                                          \n",
      "2023-07-03      286.620064  286.182777 -0.437287    -15.256689\n",
      "2023-07-05      294.702689  295.056704  0.354015     12.012631\n",
      "2023-07-06      294.375084  293.817955 -0.557129    -18.925837\n",
      "2023-07-07      292.016067  292.024894  0.008827      0.302278\n",
      "2023-07-10      292.544818  292.228996 -0.315821    -10.795658\n"
     ]
    },
    {
     "data": {
      "image/png": "[encoded data removed]",
      "text/plain": [
       "<Figure size 1400x800 with 1 Axes>"
      ]
     },
     "metadata": {},
     "output_type": "display_data"
    }
   ],
   "source": [
    "# Perform calculations\n",
    "avg_slippage_bps = results_df['slippage_bps'].mean()\n",
    "std_slippage_bps = results_df['slippage_bps'].std()\n",
    "\n",
    "# Print summary\n",
    "print(f\"\\n--- TLN Model Performance Summary ---\")\n",
    "print(f\"Average Slippage: {avg_slippage_bps:.2f} bps\")\n",
    "print(f\"Standard Deviation of Slippage: {std_slippage_bps:.2f} bps\")\n",
    "print(f\"Number of Days Tested: {len(results_df)}\")\n",
    "print(\"\\n--- First 5 Days of Results ---\")\n",
    "print(results_df.head())\n",
    "\n",
    "# Plot the results\n",
    "plt.style.use('seaborn-v0_8-whitegrid')\n",
    "plt.figure(figsize=(14, 8))\n",
    "plt.plot(results_df.index, results_df['benchmark_vwap'], label='Benchmark VWAP', marker='o', linestyle='--')\n",
    "plt.plot(results_df.index, results_df['model_vwap'], label='Model VWAP', marker='x', linestyle='-')\n",
    "plt.title('Benchmark VWAP vs. TLN Model VWAP')\n",
    "plt.ylabel('Price')\n",
    "plt.xlabel('Date')\n",
    "plt.legend()\n",
    "plt.grid(True)\n",
    "plt.xticks(rotation=45)\n",
    "plt.tight_layout()\n",
    "plt.show()"
   ]
  },
  {
   "cell_type": "code",
   "execution_count": 35,
   "id": "59049c47",
   "metadata": {},
   "outputs": [
    {
     "name": "stdout",
     "output_type": "stream",
     "text": [
      "Test results saved to results/vwap_model_predictions_02_TLN.csv\n"
     ]
    }
   ],
   "source": [
    "output_file = 'results/vwap_model_predictions_02_TLN.csv'\n",
    "test_df.to_csv(output_file, index=True)\n",
    "print(f\"Test results saved to {output_file}\")"
   ]
  },
  {
   "cell_type": "code",
   "execution_count": null,
   "id": "6adb1858",
   "metadata": {},
   "outputs": [],
   "source": []
  }
 ],
 "metadata": {
  "kernelspec": {
   "display_name": "myvenv",
   "language": "python",
   "name": "python3"
  },
  "language_info": {
   "codemirror_mode": {
    "name": "ipython",
    "version": 3
   },
   "file_extension": ".py",
   "mimetype": "text/x-python",
   "name": "python",
   "nbconvert_exporter": "python",
   "pygments_lexer": "ipython3",
   "version": "3.9.23"
  }
 },
 "nbformat": 4,
 "nbformat_minor": 5
}
